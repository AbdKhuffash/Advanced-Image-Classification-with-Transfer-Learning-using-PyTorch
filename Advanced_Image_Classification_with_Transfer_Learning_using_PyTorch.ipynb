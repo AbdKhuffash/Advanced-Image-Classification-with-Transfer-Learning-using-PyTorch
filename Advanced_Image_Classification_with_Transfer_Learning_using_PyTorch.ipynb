{
  "nbformat": 4,
  "nbformat_minor": 0,
  "metadata": {
    "colab": {
      "provenance": [],
      "toc_visible": true,
      "gpuType": "T4",
      "authorship_tag": "ABX9TyOGgz7KXq3H/wJkJlk66VQb",
      "include_colab_link": true
    },
    "kernelspec": {
      "name": "python3",
      "display_name": "Python 3"
    },
    "language_info": {
      "name": "python"
    },
    "accelerator": "GPU"
  },
  "cells": [
    {
      "cell_type": "markdown",
      "metadata": {
        "id": "view-in-github",
        "colab_type": "text"
      },
      "source": [
        "<a href=\"https://colab.research.google.com/github/AbdKhuffash/Advanced-Image-Classification-with-Transfer-Learning-using-PyTorch/blob/main/Advanced_Image_Classification_with_Transfer_Learning_using_PyTorch.ipynb\" target=\"_parent\"><img src=\"https://colab.research.google.com/assets/colab-badge.svg\" alt=\"Open In Colab\"/></a>"
      ]
    },
    {
      "cell_type": "markdown",
      "source": [
        "# Advanced Image Classification with Transfer Learning using PyTorch\n",
        "This case study demonstrates the use of transfer learning to classify images from the CIFAR-10 dataset using pre-trained AlexNet and VGG16 models.\n",
        "\n",
        "The steps involved in this case study include:\n",
        "---\n",
        "## Setup and Data Preparation\n",
        "\n",
        "*   Load the CIFAR-10 dataset and apply transformations.\n",
        "*   Define the training and evaluation functions.\n",
        "*   Use DataLoader for batch processing.\n",
        "\n",
        "---\n",
        "\n",
        "## Load and Adapt Pre-trained Models\n",
        "\n",
        "*   Load the pre-trained AlexNet and VGG16 models, modifying them for CIFAR-10 classification.\n",
        "*   Fine-tune some models by unfreezing the last layers, while others are used as fixed feature extractors.\n",
        "\n",
        "---\n",
        "\n",
        "## Compile and Train the Models\n",
        "\n",
        "*   Define loss functions and optimizers.\n",
        "*   Train the models using the training data.\n",
        "*   Save the training history.\n",
        "\n",
        "---\n",
        "\n",
        "## Evaluate the Models\n",
        "\n",
        "\n",
        "*   Evaluate the models' performance on the test dataset.\n",
        "*   Plot the training and validation accuracy and loss over epochs.\n",
        "\n",
        "\n",
        "\n",
        "\n",
        "\n",
        "\n",
        "\n"
      ],
      "metadata": {
        "id": "DLkf7L1apY0b"
      }
    },
    {
      "cell_type": "markdown",
      "source": [
        "# Step 1: Setup and Data Preparation"
      ],
      "metadata": {
        "id": "svOomw3GpdPD"
      }
    },
    {
      "cell_type": "markdown",
      "source": [
        "Importing Needed Libraries:"
      ],
      "metadata": {
        "id": "nZwl-vhspiP7"
      }
    },
    {
      "cell_type": "code",
      "execution_count": 1,
      "metadata": {
        "id": "Sl8-WjtTpTUb"
      },
      "outputs": [],
      "source": [
        "import torch\n",
        "import torch.nn as nn\n",
        "import torch.optim as optim\n",
        "import torchvision\n",
        "import torchvision.transforms as transforms\n",
        "import torchvision.models as models\n",
        "from torch.utils.data import DataLoader\n",
        "import matplotlib.pyplot as plt\n"
      ]
    },
    {
      "cell_type": "markdown",
      "source": [
        "This code prepares the data and environment for training a neural network on the CIFAR-10 dataset using PyTorch:"
      ],
      "metadata": {
        "id": "Ht5Nn3Iwpi3j"
      }
    },
    {
      "cell_type": "code",
      "source": [
        "# Define device\n",
        "device = torch.device(\"cuda:0\" if torch.cuda.is_available() else \"cpu\")\n",
        "\n",
        "# Define transformations for the training and test sets\n",
        "transform_train = transforms.Compose([\n",
        "    transforms.RandomCrop(32, padding=4),\n",
        "    transforms.RandomHorizontalFlip(),\n",
        "    transforms.ToTensor(),\n",
        "    transforms.Normalize((0.4914, 0.4822, 0.4465), (0.2023, 0.1994, 0.2010)),\n",
        "])\n",
        "\n",
        "transform_test = transforms.Compose([\n",
        "    transforms.ToTensor(),\n",
        "    transforms.Normalize((0.4914, 0.4822, 0.4465), (0.2023, 0.1994, 0.2010)),\n",
        "])\n",
        "\n",
        "# Load CIFAR-10 dataset\n",
        "trainset = torchvision.datasets.CIFAR10(root='./data', train=True, download=True, transform=transform_train)\n",
        "trainloader = DataLoader(trainset, batch_size=32, shuffle=True, num_workers=2)\n",
        "\n",
        "testset = torchvision.datasets.CIFAR10(root='./data', train=False, download=True, transform=transform_test)\n",
        "testloader = DataLoader(testset, batch_size=32, shuffle=False, num_workers=2)\n",
        "\n",
        "# Class labels\n",
        "classes = ('plane', 'car', 'bird', 'cat', 'deer', 'dog', 'frog', 'horse', 'ship', 'truck')"
      ],
      "metadata": {
        "colab": {
          "base_uri": "https://localhost:8080/"
        },
        "id": "KDjSjpdJpjLL",
        "outputId": "c0a61ee5-d431-4b67-f92a-dae96a4e75c0"
      },
      "execution_count": 2,
      "outputs": [
        {
          "output_type": "stream",
          "name": "stdout",
          "text": [
            "Downloading https://www.cs.toronto.edu/~kriz/cifar-10-python.tar.gz to ./data/cifar-10-python.tar.gz\n"
          ]
        },
        {
          "output_type": "stream",
          "name": "stderr",
          "text": [
            "100%|██████████| 170498071/170498071 [00:05<00:00, 29464099.43it/s]\n"
          ]
        },
        {
          "output_type": "stream",
          "name": "stdout",
          "text": [
            "Extracting ./data/cifar-10-python.tar.gz to ./data\n",
            "Files already downloaded and verified\n"
          ]
        }
      ]
    },
    {
      "cell_type": "markdown",
      "source": [
        "\n",
        "---\n",
        "---\n",
        "The transformation transforms.RandomCrop(32, padding=4) is a part of the data augmentation process used to enhance the diversity of the training dataset.\n",
        "\n",
        "The primary purpose of transforms.RandomCrop is to randomly crop the images to a specified size. This helps in making the model more robust by training it on slightly different versions of the same image.\n",
        "\n",
        "32: This is the size of the crop. The transformation will crop the images to 32x32 pixels.\n",
        "\n",
        "padding=4: Before performing the crop, the transformation pads the image with 4 pixels on each side. Padding is added to ensure that the cropped area can include regions near the edges of the original image.\n",
        "\n",
        "---\n",
        "---\n",
        "The numbers ((0.4914, 0.4822, 0.4465), (0.2023, 0.1994, 0.2010)) in the code refer to the mean and standard deviation values used for normalizing the CIFAR-10 dataset.\n",
        "\n",
        "Normalization is a common preprocessing step in training machine learning models, especially for image data. It helps to standardize the range of the input data, which can lead to faster convergence during training and can also improve the overall performance of the model.\n",
        "\n",
        "**Why Normalize?**\n",
        "\n",
        "Normalization involves adjusting the values in the dataset to have a mean of 0 and a standard deviation of 1 (or other chosen values). For image data, this is typically done per color channel. The specific mean and standard deviation values used here are calculated from the CIFAR-10 training dataset and are applied to every image in both the training and test datasets.\n",
        "\n",
        "*How It Works*\n",
        "\n",
        "For each image pixel value, normalization is done as follows:\n",
        "\n",
        "Normalized pixel value= (Originalpixelvalue-Mean)/StandaredDeviation\n",
        "\n",
        "This formula is applied to each channel (Red, Green, Blue) of the image. The mean and standard deviation are used to scale the pixel values so that they have the same distribution properties across the entire dataset.\n",
        "\n",
        "*Example*\n",
        "\n",
        "Let's take an example pixel with RGB values (R=125, G=130, B=115) and apply normalization:\n",
        "\n",
        "1.   For the Red channel:\n",
        "\n",
        "      Normalized Red=(125-0.4914)/.2023\n",
        "2.   For the Green channel:\n",
        "\n",
        "      Normalized Green=(130-.4822)/.1994\n",
        "3.   For the Blue channel:\n",
        "\n",
        "      Normalized Blue= (115-.4465)/.2010\n",
        "\n",
        "Applying these operations helps ensure that each input image contributes equally during training, without some images dominating due to higher pixel intensity values. This leads to more stable and effective training of the neural network model.\n",
        "\n",
        "---\n",
        "---"
      ],
      "metadata": {
        "id": "UokOiKzxTJMt"
      }
    },
    {
      "cell_type": "markdown",
      "source": [
        "# Step 2: Load and Adapt Pre-trained Models"
      ],
      "metadata": {
        "id": "bCWpCpp_psaU"
      }
    },
    {
      "cell_type": "markdown",
      "source": [
        "This code essentially sets up two models (AlexNet and VGG16) in two configurations each: one where the entire model is fine-tuned, and one where only the final classifier layer is trained while the feature extraction layers are frozen. The modifications made to the layers ensure that the models are compatible with the CIFAR-10 dataset, which has 10 classes."
      ],
      "metadata": {
        "id": "3vwk3vTlUDtL"
      }
    },
    {
      "cell_type": "code",
      "source": [
        "# Load pre-trained AlexNet and modify the classifier\n",
        "alexnet = models.alexnet(pretrained=True)\n",
        "alexnet.features[0] = nn.Conv2d(3, 64, kernel_size=3, stride=1, padding=1)\n",
        "alexnet.features[2] = nn.MaxPool2d(kernel_size=2, stride=2)\n",
        "alexnet.classifier[6] = nn.Linear(4096, 10)\n",
        "alexnet = alexnet.to(device)\n",
        "\n",
        "# Load pre-trained AlexNet and freeze all layers except the final layer\n",
        "alexnet_fixed = models.alexnet(pretrained=True)\n",
        "alexnet_fixed.features[0] = nn.Conv2d(3, 64, kernel_size=3, stride=1, padding=1)\n",
        "alexnet_fixed.features[2] = nn.MaxPool2d(kernel_size=2, stride=2)\n",
        "for param in alexnet_fixed.parameters():\n",
        "    param.requires_grad = False\n",
        "alexnet_fixed.classifier[6] = nn.Linear(4096, 10)\n",
        "alexnet_fixed = alexnet_fixed.to(device)\n",
        "optimizer_alexnet_fixed = optim.SGD(alexnet_fixed.classifier[6].parameters(), lr=0.001, momentum=0.9)\n",
        "\n",
        "# Load pre-trained VGG16 and modify the classifier\n",
        "vgg16 = models.vgg16(pretrained=True)\n",
        "vgg16.classifier[6] = nn.Linear(4096, 10)\n",
        "vgg16 = vgg16.to(device)\n",
        "optimizer_vgg16 = optim.SGD(vgg16.parameters(), lr=0.001, momentum=0.9)\n",
        "\n",
        "# Load pre-trained VGG16 and freeze all layers except the final layer\n",
        "vgg16_fixed = models.vgg16(pretrained=True)\n",
        "for param in vgg16_fixed.parameters():\n",
        "    param.requires_grad = False\n",
        "vgg16_fixed.classifier[6] = nn.Linear(4096, 10)\n",
        "vgg16_fixed = vgg16_fixed.to(device)\n",
        "optimizer_vgg16_fixed = optim.SGD(vgg16_fixed.classifier[6].parameters(), lr=0.001, momentum=0.9)\n",
        "\n"
      ],
      "metadata": {
        "colab": {
          "base_uri": "https://localhost:8080/"
        },
        "id": "hEuLc6paqCZT",
        "outputId": "e4edd0fd-7cde-4b4f-b64b-3cf8b07a3c38"
      },
      "execution_count": 3,
      "outputs": [
        {
          "output_type": "stream",
          "name": "stderr",
          "text": [
            "/usr/local/lib/python3.10/dist-packages/torchvision/models/_utils.py:208: UserWarning: The parameter 'pretrained' is deprecated since 0.13 and may be removed in the future, please use 'weights' instead.\n",
            "  warnings.warn(\n",
            "/usr/local/lib/python3.10/dist-packages/torchvision/models/_utils.py:223: UserWarning: Arguments other than a weight enum or `None` for 'weights' are deprecated since 0.13 and may be removed in the future. The current behavior is equivalent to passing `weights=AlexNet_Weights.IMAGENET1K_V1`. You can also use `weights=AlexNet_Weights.DEFAULT` to get the most up-to-date weights.\n",
            "  warnings.warn(msg)\n",
            "Downloading: \"https://download.pytorch.org/models/alexnet-owt-7be5be79.pth\" to /root/.cache/torch/hub/checkpoints/alexnet-owt-7be5be79.pth\n",
            "100%|██████████| 233M/233M [00:01<00:00, 170MB/s]\n",
            "/usr/local/lib/python3.10/dist-packages/torchvision/models/_utils.py:223: UserWarning: Arguments other than a weight enum or `None` for 'weights' are deprecated since 0.13 and may be removed in the future. The current behavior is equivalent to passing `weights=VGG16_Weights.IMAGENET1K_V1`. You can also use `weights=VGG16_Weights.DEFAULT` to get the most up-to-date weights.\n",
            "  warnings.warn(msg)\n",
            "Downloading: \"https://download.pytorch.org/models/vgg16-397923af.pth\" to /root/.cache/torch/hub/checkpoints/vgg16-397923af.pth\n",
            "100%|██████████| 528M/528M [00:03<00:00, 176MB/s]\n"
          ]
        }
      ]
    },
    {
      "cell_type": "markdown",
      "source": [
        "\n",
        "---\n",
        "---\n",
        "1.   *Loading Pre-trained Models*\n",
        "\n",
        "The models are loaded with pre-trained weights from large datasets (e.g., ImageNet). Pre-trained models provide a good starting point for many tasks since they have already learned useful features from a large and diverse dataset.\n",
        "\n",
        "2.   *Modifying AlexNet*\n",
        "\n",
        "  a.Modify Layers:\n",
        "\n",
        "\n",
        "  *   Convolutional Layer: The first convolutional layer is modified to have a smaller kernel size and different padding/stride settings.\n",
        "  *   Pooling Layer: The second layer is changed to a MaxPooling layer with a kernel size and stride of 2.\n",
        "\n",
        "  b.Change Classifier:\n",
        "\n",
        "  *   The last fully connected layer (classifier) is modified to output 10 classes instead of the original number of classes (typically 1000 for ImageNet).\n",
        "\n",
        "  c.Move Model to Device:\n",
        "\n",
        "\n",
        "  *   The model is moved to the specified device.\n",
        "\n",
        "\n",
        "3.   *Freezing Layers*\n",
        "\n",
        "In one version of AlexNet, all layers except the final classifier layer are frozen. This means that their weights will not be updated during training.\n",
        "\n",
        "4.   *Optimizers*\n",
        "\n",
        "Optimizers are set up for training the models. The learning rate and momentum are specified.\n",
        "\n",
        "\n",
        "*   For the unfrozen AlexNet:\n",
        "\n",
        "```\n",
        "optimizer_alexnet = optim.SGD(alexnet.parameters(), lr=0.001, momentum=0.9)\n",
        "```\n",
        "\n",
        "*   For the frozen AlexNet (only the classifier layer's parameters are optimized):\n",
        "\n",
        "```\n",
        "optimizer_alexnet_fixed = optim.SGD(alexnet_fixed.classifier[6].parameters(), lr=0.001, momentum=0.9)\n",
        "\n",
        "```\n",
        "\n",
        "5. *Modifying VGG16*\n",
        "\n",
        "The process is similar to AlexNet.\n",
        "\n",
        "  a. Change Classifier\n",
        "  ```\n",
        "  vgg16.classifier[6] = nn.Linear(4096, 10)\n",
        "  vgg16 = vgg16.to(device)\n",
        "  ```\n",
        "  b. Optimizers\n",
        "\n",
        "*   For the unfrozen VGG16:\n",
        "```\n",
        "optimizer_vgg16 = optim.SGD(vgg16.parameters(), lr=0.001, momentum=0.9)\n",
        "```\n",
        "\n",
        "*   For the frozen VGG16 (only the classifier layer's parameters are optimized):\n",
        "```\n",
        "for param in vgg16_fixed.parameters():\n",
        "      param.requires_grad = False\n",
        "vgg16_fixed.classifier[6] = nn.Linear(4096, 10)\n",
        "vgg16_fixed = vgg16_fixed.to(device)\n",
        "optimizer_vgg16_fixed = optim.SGD(vgg16_fixed.classifier[6].parameters(), lr=0.001, momentum=0.9)\n",
        "```\n",
        "\n",
        "\n",
        "\n",
        "\n",
        "\n",
        "\n",
        "\n",
        "\n",
        "---\n",
        "---"
      ],
      "metadata": {
        "id": "8f5zUYxxUFSS"
      }
    },
    {
      "cell_type": "code",
      "source": [
        "# Loss function and optimizer\n",
        "criterion = nn.CrossEntropyLoss()\n",
        "optimizer_alexnet = optim.SGD(alexnet.parameters(), lr=0.001, momentum=0.9)"
      ],
      "metadata": {
        "id": "lpiTjtJ2rkvx"
      },
      "execution_count": 4,
      "outputs": []
    },
    {
      "cell_type": "markdown",
      "source": [
        "---\n",
        "---\n",
        "1. Loss Function\n",
        "\n",
        "  *   CrossEntropyLoss: This is a commonly used loss function for classification problems. It combines nn.LogSoftmax() and nn.NLLLoss() (negative log likelihood loss) in one single class.\n",
        "  *   Purpose: The loss function measures the difference between the predicted class probabilities (from the model) and the actual class labels (ground truth). It penalizes the model more when it is more confident about incorrect predictions.\n",
        "  *   Usage: For a multi-class classification task where the classes are mutually exclusive, nn.CrossEntropyLoss is appropriate.\n",
        "\n",
        "\n",
        "2. Optimizer\n",
        "\n",
        "* SGD (Stochastic Gradient Descent): This is an optimization algorithm used to minimize the loss function by updating the model parameters in the direction that reduces the loss.\n",
        "  * Parameters: alexnet.parameters() are the weights of the model that need to be updated during training.\n",
        "  * Learning Rate (lr): This is a hyperparameter that determines the step size at each iteration while moving toward a minimum of the loss function. A smaller learning rate means the model updates the weights slowly, which can lead to more stable convergence.\n",
        "  * Momentum: This is a hyperparameter that helps accelerate the gradients vectors in the right direction, thus leading to faster converging. It helps in smoothing out the updates, dampening the oscillations, and avoiding local minima.\n",
        "\n",
        "  **Putting It All Together**\n",
        "\n",
        "* Loss Function: nn.CrossEntropyLoss will be used to compute the difference between the predicted outputs of the model and the actual labels during training. This loss guides how the model parameters should be adjusted.\n",
        "\n",
        "* Optimizer: optim.SGD will use the gradients computed during backpropagation to update the model parameters. The momentum term helps in speeding up the training and stabilizing the convergence.\n",
        "\n",
        "**Workflow During Training**\n",
        "\n",
        "1. Forward Pass: Pass the input data through the model to get predictions.\n",
        "\n",
        "2. Compute Loss: Use criterion (cross-entropy loss) to compute the difference between predictions and actual labels.\n",
        "\n",
        "3. Backward Pass: Compute the gradients of the loss with respect to the model parameters.\n",
        "\n",
        "4. Update Parameters: Use optimizer (SGD) to update the model parameters using the computed gradients.\n",
        "\n",
        "---\n",
        "---\n"
      ],
      "metadata": {
        "id": "LOtrMgROXwmp"
      }
    },
    {
      "cell_type": "markdown",
      "source": [
        "# Step 3: Train the Models"
      ],
      "metadata": {
        "id": "eJ-YBm7Bps0j"
      }
    },
    {
      "cell_type": "markdown",
      "source": [
        "The train function  is responsible for training a neural network model (model) on a dataset (trainloader) for a specified number of epochs (epochs=3)."
      ],
      "metadata": {
        "id": "E1SejesDY_J5"
      }
    },
    {
      "cell_type": "code",
      "source": [
        "# Training function\n",
        "def train(model, optimizer, criterion, trainloader, device, epochs=3):\n",
        "    model.train()\n",
        "    training_loss = []\n",
        "    accuracy = []\n",
        "    for epoch in range(epochs):\n",
        "        running_loss = 0.0\n",
        "        correct = 0\n",
        "        total = 0\n",
        "        for inputs, labels in trainloader:\n",
        "            inputs, labels = inputs.to(device), labels.to(device)\n",
        "\n",
        "            optimizer.zero_grad()\n",
        "            outputs = model(inputs)\n",
        "            loss = criterion(outputs, labels)\n",
        "            loss.backward()\n",
        "            optimizer.step()\n",
        "\n",
        "            running_loss += loss.item()\n",
        "\n",
        "            _, predicted = torch.max(outputs, 1)\n",
        "            total += labels.size(0)\n",
        "            correct += (predicted == labels).sum().item()\n",
        "\n",
        "        epoch_loss = running_loss / len(trainloader)\n",
        "        epoch_accuracy = 100 * correct / total\n",
        "        training_loss.append(epoch_loss)\n",
        "        accuracy.append(epoch_accuracy)\n",
        "\n",
        "        print(f'Epoch {epoch+1}, Loss: {epoch_loss}, Accuracy: {epoch_accuracy}%')\n",
        "\n",
        "    return training_loss, accuracy"
      ],
      "metadata": {
        "id": "CXVY9Ny1p7QR"
      },
      "execution_count": 5,
      "outputs": []
    },
    {
      "cell_type": "markdown",
      "source": [
        "---\n",
        "---\n",
        "**Training Loop:**\n",
        "\n",
        "* Outer Loop (epochs): Iterates over each epoch.\n",
        "* Initialization for Each Epoch\n",
        "```\n",
        "running_loss = 0.0  # Accumulates the running loss for the epoch\n",
        "correct = 0  # Counts the number of correctly predicted samples\n",
        "total = 0  # Total number of samples processed in the epoch\n",
        "```\n",
        "\n",
        "* Inner Loop (trainloader): Iterates over batches of data from trainloader. contains (Data Preparation,Zero Gradient Accumulation,Forward Pass,Compute Loss,Backward Pass,Update Parameters,Metrics Calculation)\n",
        "\n",
        "* Epoch Metrics:\n",
        "```\n",
        "epoch_loss = running_loss / len(trainloader)  # Compute average loss for the epoch\n",
        "epoch_accuracy = 100 * correct / total  # Compute accuracy for the epoch\n",
        "training_loss.append(epoch_loss)  # Append epoch loss to the training loss list\n",
        "accuracy.append(epoch_accuracy)  # Append epoch accuracy to the accuracy list\n",
        "print(f'Epoch {epoch+1}, Loss: {epoch_loss}, Accuracy: {epoch_accuracy}%')  # Print epoch statistics\n",
        "```\n",
        "\n",
        "\n",
        "---\n",
        "---"
      ],
      "metadata": {
        "id": "PnDZ_RZnZGQZ"
      }
    },
    {
      "cell_type": "markdown",
      "source": [
        "Several deep learning models are trained and evaluated on the CIFAR-10 dataset using the train function defined earlier."
      ],
      "metadata": {
        "id": "wH0eawNpZ_5A"
      }
    },
    {
      "cell_type": "code",
      "source": [
        "# Train and evaluate AlexNet\n",
        "print(\"Training finetuned AlexNet...\")\n",
        "loss_alexnet, acc_alexnet = train(alexnet, optimizer_alexnet, criterion, trainloader, device, epochs=3)\n",
        "\n",
        "\n",
        "# Train and evaluate AlexNet with fixed feature extractor\n",
        "print(\"Training AlexNet as fixed feature extractor...\")\n",
        "loss_alexnet_fixed, acc_alexnet_fixed = train(alexnet_fixed, optimizer_alexnet_fixed, criterion, trainloader, device, epochs=3)\n",
        "\n",
        "# Train and evaluate VGG16\n",
        "print(\"Training finetuned VGG16...\")\n",
        "loss_vgg16, acc_vgg16 = train(vgg16, optimizer_vgg16, criterion, trainloader, device, epochs=3)\n",
        "\n",
        "\n",
        "# Train and evaluate VGG16 with fixed feature extractor\n",
        "print(\"Training VGG16 as fixed feature extractor...\")\n",
        "loss_vgg16_fixed, acc_vgg16_fixed = train(vgg16_fixed, optimizer_vgg16_fixed, criterion, trainloader, device, epochs=3)\n",
        "\n"
      ],
      "metadata": {
        "colab": {
          "base_uri": "https://localhost:8080/"
        },
        "id": "NFaxQZjJq2my",
        "outputId": "02a9f01d-e43c-446c-9896-fe2121ed2c87"
      },
      "execution_count": 6,
      "outputs": [
        {
          "output_type": "stream",
          "name": "stdout",
          "text": [
            "Training finetuned AlexNet...\n",
            "Epoch 1, Loss: 1.4716850741506005, Accuracy: 46.598%\n",
            "Epoch 2, Loss: 1.1074508950257256, Accuracy: 60.96%\n",
            "Epoch 3, Loss: 0.9274564643967861, Accuracy: 67.368%\n",
            "Training AlexNet as fixed feature extractor...\n",
            "Epoch 1, Loss: 1.870542918423087, Accuracy: 31.6%\n",
            "Epoch 2, Loss: 1.812548787259781, Accuracy: 34.352%\n",
            "Epoch 3, Loss: 1.7994366886519653, Accuracy: 34.742%\n",
            "Training finetuned VGG16...\n",
            "Epoch 1, Loss: 0.8177716632874745, Accuracy: 71.998%\n",
            "Epoch 2, Loss: 0.5216607592871231, Accuracy: 82.618%\n",
            "Epoch 3, Loss: 0.42742011485643977, Accuracy: 85.414%\n",
            "Training VGG16 as fixed feature extractor...\n",
            "Epoch 1, Loss: 2.041646374812587, Accuracy: 41.98%\n",
            "Epoch 2, Loss: 2.1064987787434633, Accuracy: 43.204%\n",
            "Epoch 3, Loss: 2.141000798476177, Accuracy: 43.5%\n"
          ]
        }
      ]
    },
    {
      "cell_type": "markdown",
      "source": [
        "---\n",
        "---\n",
        "The results presented are from training and evaluating two different models (AlexNet and VGG16) on the CIFAR-10 dataset under two different conditions: fine-tuned and with fixed feature extractor. Here's an explanation of each:\n",
        "\n",
        "1. Fine-tuned AlexNet\n",
        "  * Training finetuned AlexNet\n",
        "    * Epoch 1: (Loss: 1.433 , Accuracy: 46.74%)\n",
        "    * Epoch 2: (Loss: 1.057 ,Accuracy: 60.38%)\n",
        "    * Epoch 3: (Loss: 0.889 ,Accuracy: 67.41%)\n",
        "\n",
        "*Explanation:*\n",
        "* Loss: Represents the average loss per batch over the entire training dataset for each epoch. Lower values indicate that the model's predictions are closer to the actual labels.\n",
        "* Accuracy: Percentage of correctly predicted labels over the entire training dataset for each epoch. Higher values indicate better performance.\n",
        "\n",
        "For the fine-tuned AlexNet, we observe that both the loss and accuracy improve significantly over each epoch. This suggests that adjusting the initial layers and the classifier of AlexNet allows it to learn features specific to the CIFAR-10 dataset, leading to better classification performance.\n",
        "\n",
        "2. AlexNet with Fixed Feature Extractor\n",
        "  * Training AlexNet as fixed feature extractor\n",
        "    \n",
        "    * Epoch 1: (Loss: 1.931 , Accuracy: 31.88%)\n",
        "    * Epoch 2: (Loss: 1.884 , Accuracy: 34.70%)\n",
        "    * Epoch 3: (Loss: 1.869 , Accuracy: 34.23%)\n",
        "*Explanation:*\n",
        "\n",
        "Here, AlexNet's convolutional layers are frozen, and only the classifier is trained. This results in lower accuracy and higher loss compared to the fine-tuned AlexNet. The model struggles to adapt to the CIFAR-10 dataset's nuances without modifying its initial layers, hence the poorer performance.\n",
        "\n",
        "3. Fine-tuned VGG16\n",
        "  * Training finetuned VGG16\n",
        "\n",
        "    * Epoch 1:(Loss: 0.805 ,Accuracy: 71.59%)\n",
        "    * Epoch 2:(Loss: 0.512 ,Accuracy: 82.75%)\n",
        "    * Epoch 3:(Loss: 0.421 ,Accuracy: 85.88%)\n",
        "*Explanation*\n",
        "\n",
        "VGG16, when fine-tuned, shows excellent performance with a significant decrease in loss and increase in accuracy over each epoch. Its deeper architecture and effective feature learning capabilities allow it to achieve high accuracy on CIFAR-10.\n",
        "\n",
        "4. VGG16 with Fixed Feature Extractor\n",
        "  * Training VGG16 as fixed feature extractor\n",
        "\n",
        "    * Epoch 1: (Loss: 2.053, Accuracy: 41.51%)\n",
        "    * Epoch 2: (Loss: 2.145, Accuracy: 43.92%)\n",
        "    * Epoch 3: (Loss: 2.138, Accuracy: 43.62%)\n",
        "\n",
        "*Explanation:*\n",
        "\n",
        "Similar to AlexNet, freezing VGG16's convolutional layers and training only the classifier results in lower accuracy and higher loss compared to fine-tuning. VGG16's complex architecture benefits greatly from fine-tuning, and freezing the initial layers hampers its ability to learn effectively for the CIFAR-10 dataset.\n",
        "\n",
        "\n",
        "**Summary:**\n",
        "\n",
        "* Fine-tuning (modifying initial layers and classifier) generally leads to better performance as seen in both AlexNet and VGG16.\n",
        "\n",
        "* Freezing convolutional layers while training only the classifier (fixed feature extractor) results in inferior performance due to the inability to adapt to dataset-specific features effectively.\n",
        "\n",
        "\n",
        "---\n",
        "---\n",
        "\n"
      ],
      "metadata": {
        "id": "WsRSP2zQaOQ_"
      }
    },
    {
      "cell_type": "markdown",
      "source": [
        "# Step 4: Evaluate the Models"
      ],
      "metadata": {
        "id": "d-2IemWppvP8"
      }
    },
    {
      "cell_type": "markdown",
      "source": [
        "The provided code includes two functions: evaluate and plot_curves, which are crucial for evaluating model performance and visualizing training metrics."
      ],
      "metadata": {
        "id": "tc_klfhpdRR3"
      }
    },
    {
      "cell_type": "code",
      "source": [
        "# Evaluation function\n",
        "def evaluate(model, testloader, device):\n",
        "    model.eval()\n",
        "    correct = 0\n",
        "    total = 0\n",
        "    with torch.no_grad():\n",
        "        for inputs, labels in testloader:\n",
        "            inputs, labels = inputs.to(device), labels.to(device)\n",
        "            outputs = model(inputs)\n",
        "            _, predicted = torch.max(outputs.data, 1)\n",
        "            total += labels.size(0)\n",
        "            correct += (predicted == labels).sum().item()\n",
        "    accuracy = 100 * correct / total\n",
        "    print(f'Accuracy: {accuracy}%')\n",
        "    return accuracy\n",
        "\n",
        "# Function to plot accuracy and loss\n",
        "def plot_curves(accuracy_dict, loss_dict):\n",
        "    plt.figure(figsize=(12, 5))\n",
        "\n",
        "    # Plot accuracy\n",
        "    plt.subplot(1, 2, 1)\n",
        "    for model_name, acc in accuracy_dict.items():\n",
        "        plt.plot(acc, label=model_name)\n",
        "    plt.xlabel('Epoch')\n",
        "    plt.ylabel('Accuracy (%)')\n",
        "    plt.title('Accuracy Curves')\n",
        "    plt.legend()\n",
        "\n",
        "    # Plot loss\n",
        "    plt.subplot(1, 2, 2)\n",
        "    for model_name, loss in loss_dict.items():\n",
        "        plt.plot(loss, label=model_name)\n",
        "    plt.xlabel('Epoch')\n",
        "    plt.ylabel('Loss')\n",
        "    plt.title('Loss Curves')\n",
        "    plt.legend()\n",
        "\n",
        "    plt.show()"
      ],
      "metadata": {
        "id": "uJKeCXJXrDn7"
      },
      "execution_count": 7,
      "outputs": []
    },
    {
      "cell_type": "markdown",
      "source": [
        "---\n",
        "---\n",
        "1. Evaluation Function (evaluate):\n",
        " * Purpose: This function evaluates the performance of a given model on a specified testloader, computing its accuracy on a dataset.\n",
        " * Steps:\n",
        "\n",
        "    * Set Evaluation Mode: model.eval() ensures the model behaves differently during evaluation (e.g., disables dropout).\n",
        "\n",
        "    * Iterate Over Testloader: Processes batches of data (inputs and labels) from testloader.\n",
        "\n",
        "    * Forward Pass: Computes predictions (outputs) using the model.\n",
        "\n",
        "    * Accuracy Calculation: Compares predicted labels (predicted) with ground truth labels (labels) to determine the number of correctly classified samples (correct).\n",
        "\n",
        "    * Accuracy: Computes and prints the accuracy as a percentage.\n",
        "\n",
        "    * Return Value: Returns the accuracy value for further analysis or logging.\n",
        "\n",
        "2. Plotting Function (plot_curves):\n",
        "  * Purpose: This function visualizes training metrics (accuracy and loss) across epochs for different models.\n",
        "\n",
        "  * Steps:\n",
        "\n",
        "    * Figure Initialization: Creates a new figure with specified dimensions (12x5 inches).\n",
        "\n",
        "    * Accuracy Plotting:\n",
        "      * Uses accuracy_dict to iterate over model names and their corresponding accuracy lists (acc).\n",
        "      * Plots accuracy curves for each model (acc) against epochs.\n",
        "      * Labels axes, adds a title, and displays a legend.\n",
        "\n",
        "    * Loss Plotting:\n",
        "      * Uses loss_dict to iterate over model names and their corresponding loss lists (loss).\n",
        "      * Plots loss curves for each model (loss) against epochs.\n",
        "      * Labels axes, adds a title, and displays a legend.\n",
        "\n",
        "    * Display: Shows the plots using plt.show().\n",
        "\n",
        "\n",
        "**Summary:**\n",
        "\n",
        "* Evaluation Function: evaluate computes and prints the accuracy of a model on a test dataset, crucial for assessing model performance after training.\n",
        "\n",
        "* Plotting Function: plot_curves visualizes training metrics (accuracy and loss) across epochs for multiple models, aiding in comparative analysis and performance visualization.\n",
        "\n",
        "\n",
        "\n",
        "---\n",
        "---"
      ],
      "metadata": {
        "id": "mE92qklBduoo"
      }
    },
    {
      "cell_type": "code",
      "source": [
        "# Dictionary to store accuracy and loss\n",
        "accuracy_dict = {}\n",
        "loss_dict = {}\n",
        "\n",
        "#Evaluate AlexNet\n",
        "accuracy_dict['AlexNet Finetuned'] = acc_alexnet\n",
        "loss_dict['AlexNet Finetuned'] = loss_alexnet\n",
        "acc_alexnet = evaluate(alexnet, testloader, device)\n",
        "\n",
        "#Evaluate VGG16\n",
        "accuracy_dict['VGG16 Finetuned'] = acc_vgg16\n",
        "loss_dict['VGG16 Finetuned'] = loss_vgg16\n",
        "acc_vgg16 = evaluate(vgg16, testloader, device)\n",
        "#Evaluate AlexNet Fixed\n",
        "accuracy_dict['AlexNet Fixed'] = acc_alexnet_fixed\n",
        "loss_dict['AlexNet Fixed'] = loss_alexnet_fixed\n",
        "acc_alexnet_fixed = evaluate(alexnet_fixed, testloader, device)\n",
        "\n",
        "#Evaluate VGG16 Fixed\n",
        "accuracy_dict['VGG16 Fixed'] = acc_vgg16_fixed\n",
        "loss_dict['VGG16 Fixed'] = loss_vgg16_fixed\n",
        "accuracy_vgg16_fixed = evaluate(vgg16_fixed, testloader, device)\n",
        "\n"
      ],
      "metadata": {
        "id": "1h0LTrNEsKuR",
        "colab": {
          "base_uri": "https://localhost:8080/"
        },
        "outputId": "23ef073a-adf3-40ef-cb26-c67f9ce05f1b"
      },
      "execution_count": 10,
      "outputs": [
        {
          "output_type": "stream",
          "name": "stdout",
          "text": [
            "Accuracy: 71.3%\n",
            "Accuracy: 83.77%\n",
            "Accuracy: 40.12%\n",
            "Accuracy: 55.55%\n"
          ]
        }
      ]
    },
    {
      "cell_type": "markdown",
      "source": [
        "---\n",
        "---\n",
        "1. Fine-tuned Models (AlexNet and VGG16):\n",
        "\n",
        "Both fine-tuned models (AlexNet Finetuned and VGG16 Finetuned) achieve higher accuracies compared to their fixed feature extractor counterparts. This indicates that allowing the models to adjust their initial layers and classifier during training improves their ability to classify CIFAR-10 images accurately.\n",
        "\n",
        "2. Fixed Feature Extractor Models (AlexNet Fixed and VGG16 Fixed):\n",
        "\n",
        "These models, where the convolutional layers are frozen and only the classifier is trained, generally perform worse than their fine-tuned counterparts. This is evident from their lower accuracy scores (40.12% for AlexNet Fixed and 55.55% for VGG16 Fixed).\n",
        "\n",
        "The evaluation results demonstrate the impact of model architecture adjustments (fine-tuning vs. fixed feature extraction) on performance metrics. Fine-tuning allows the models to adapt better to the CIFAR-10 dataset, resulting in higher accuracies and lower losses compared to models with fixed feature extractors. These findings highlight the importance of architectural flexibility and adaptation in deep learning for achieving optimal performance on specific tasks.\n",
        "\n",
        "---\n",
        "---"
      ],
      "metadata": {
        "id": "ZQGSrU7ffp99"
      }
    },
    {
      "cell_type": "code",
      "source": [
        "plot_curves(accuracy_dict, loss_dict)"
      ],
      "metadata": {
        "colab": {
          "base_uri": "https://localhost:8080/",
          "height": 507
        },
        "id": "_HuRKtd-sywh",
        "outputId": "724149f0-9851-4aa5-ff82-c9ad065d35a0"
      },
      "execution_count": 9,
      "outputs": [
        {
          "output_type": "display_data",
          "data": {
            "text/plain": [
              "<Figure size 1200x500 with 2 Axes>"
            ],
            "image/png": "[encoded data removed]"
          },
          "metadata": {}
        }
      ]
    },
    {
      "cell_type": "markdown",
      "source": [
        "1. **Accuracy Curves (Left Plot)**\n",
        "* AlexNet Finetuned (Blue Line):\n",
        "  * Starts with an accuracy of about 40%.\n",
        "  * Shows a steady increase in accuracy across the epochs.\n",
        "  * Ends with an accuracy of around 60%.\n",
        "* VGG16 Finetuned (Orange Line):\n",
        "\n",
        "  * Starts with an accuracy of around 70%.\n",
        "  * Shows a significant increase in accuracy, ending at about 90%.\n",
        "  * Demonstrates the highest accuracy among the models.\n",
        "\n",
        "* AlexNet Fixed (Green Line):\n",
        "\n",
        "  * Starts with an accuracy slightly above 30%.\n",
        "  * Shows a slight increase in accuracy across epochs.\n",
        "  * Ends with an accuracy below 40%.\n",
        "  * Displays the lowest accuracy among the models.\n",
        "\n",
        "* VGG16 Fixed (Red Line):\n",
        "\n",
        "  * Starts with an accuracy of around 40%.\n",
        "  * Shows a minimal increase in accuracy across epochs.\n",
        "  * Ends with an accuracy around 45%.\n",
        "\n",
        "2. **Loss Curves (Right Plot)**\n",
        "\n",
        "* AlexNet Finetuned (Blue Line):\n",
        "  * Starts with a loss slightly above 1.5.\n",
        "  * Shows a consistent decrease in loss over the epochs.\n",
        "  * Ends with a loss below 1.0.\n",
        "\n",
        "* VGG16 Finetuned (Orange Line):\n",
        "\n",
        "  * Starts with a loss slightly below 0.75.\n",
        "  * Shows a consistent decrease in loss over the epochs.\n",
        "  * Ends with a loss below 0.5.\n",
        "  * Demonstrates the lowest loss among the models.\n",
        "* AlexNet Fixed (Green Line):\n",
        "\n",
        "  * Starts with a loss around 2.0.\n",
        "  * Shows a slight decrease in loss over the epochs.\n",
        "  * Ends with a loss slightly above 1.75.\n",
        "\n",
        "* VGG16 Fixed (Red Line):\n",
        "\n",
        "  * Starts with a loss slightly above 2.0.\n",
        "  * Shows a consistent but slight increase in loss over the epochs.\n",
        "  * Ends with a loss around 2.25.\n",
        "  * Displays the highest loss among the models.\n",
        "\n",
        "\n",
        "\n",
        "In conclusion, fine-tuning the pre-trained models (AlexNet and VGG16) yields better performance compared to using them as fixed feature extractors. VGG16, in particular, shows superior performance when fine-tuned."
      ],
      "metadata": {
        "id": "t8-aiRQtg1ik"
      }
    }
  ]
}